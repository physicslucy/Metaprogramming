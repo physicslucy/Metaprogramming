{
 "cells": [
  {
   "cell_type": "markdown",
   "metadata": {},
   "source": [
    "### 1\n",
    "Write a function decorator, timethis, to calculate the time taken for the function to run"
   ]
  },
  {
   "cell_type": "markdown",
   "metadata": {},
   "source": [
    "### 2\n",
    "Define a function which returns the factorial of a number given as input (without using the built-in math.factorial function) and apply the @timethis decorator"
   ]
  },
  {
   "cell_type": "markdown",
   "metadata": {},
   "source": [
    "###3 \n",
    "Define a function which returns the factorial of a number given as input using the built-in math.factorial function and apply the @timethis decorator"
   ]
  },
  {
   "cell_type": "markdown",
   "metadata": {},
   "source": [
    "###4 \n",
    "Call the decorated functions to compare the efficiency of your method vs the math.factorial method for finding the factorial"
   ]
  },
  {
   "cell_type": "markdown",
   "metadata": {},
   "source": [
    "###5\n",
    "Print the metadata for your decorated functions : e.g. \n",
    "```python\n",
    "func.__name__\n",
    "```"
   ]
  },
  {
   "cell_type": "markdown",
   "metadata": {},
   "source": [
    "###6\n",
    "Remove the @wraps line from your decorator definition\n",
    "\n",
    "Re-run the function definitons with decorators again"
   ]
  },
  {
   "cell_type": "markdown",
   "metadata": {},
   "source": [
    "###7\n",
    "Undo the decorator function from the functions"
   ]
  },
  {
   "cell_type": "markdown",
   "metadata": {},
   "source": [
    "###8\n",
    "Compare the results from the decorator with the results from using the iPython magic %timeit, with your undecorated functions."
   ]
  },
  {
   "cell_type": "markdown",
   "metadata": {},
   "source": [
    "###9\n",
    "Define the functions with both decorators: @record followed by @timethis\n",
    "\n",
    "Note - this is a good example of how easy it is to add multiple decorators to the same function. \n",
    "This is useful because you can have very specific decorators and combine them to make the combination of operations you need for each function, without repeating the code for those operations for each function or defining different subclasses for the function to act on or within. \n",
    "\n",
    "\n",
    "\n",
    "Comment on the efficiency of the @record decorator by comparing the time taken with and without it"
   ]
  }
 ],
 "metadata": {
  "kernelspec": {
   "display_name": "Python 2",
   "language": "python",
   "name": "python2"
  },
  "language_info": {
   "codemirror_mode": {
    "name": "ipython",
    "version": 2
   },
   "file_extension": ".py",
   "mimetype": "text/x-python",
   "name": "python",
   "nbconvert_exporter": "python",
   "pygments_lexer": "ipython2",
   "version": "2.7.11"
  }
 },
 "nbformat": 4,
 "nbformat_minor": 0
}
