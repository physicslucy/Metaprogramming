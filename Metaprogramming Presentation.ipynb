{
 "cells": [
  {
   "cell_type": "markdown",
   "metadata": {},
   "source": [
    "# Metaprogramming Workshop"
   ]
  },
  {
   "cell_type": "markdown",
   "metadata": {},
   "source": [
    "## Workshop Outline\n",
    "In this workshop, I shall discuss first the concept and uses of metaprogramming. \n",
    "\n",
    "Following this I will explain and demonstrate how to implement metaprogramming in Python using decorators."
   ]
  },
  {
   "cell_type": "markdown",
   "metadata": {},
   "source": [
    "## Introduction - What is Metaprogramming?\n",
    "Metaprogramming is the process of writing code which manipulates existing code, such as functions or classes. \n",
    "\n",
    "A simple example of this is to add a timing feature to a function, so that as well as carrying out it's usual process, the function also times how long that takes and prints, as well as returning the original functions output. \n",
    "\n",
    "\n",
    "Metaprogramming can improve: \n",
    "+ Time efficiency (using code that is already written) \n",
    "+ Memory efficiency (less functions needed)\n",
    "+ Usability (the function can be adapted to peform the exact process for the current problem being solved)\n",
    "+ Facility (most metaprogramming techniques are straightforward to implement as long as you know the procedure to follow)\n",
    "+ Flexibility \n",
    " - Multiple decorators can be used on the same function to adapt the same piece of code to different situations without repeating it. This also makes it easy to modify or extend many uses of the code at once, by modifying the \n",
    " - Conversely the same decorator can be applied to many functions to extend - for example the @timethis decorator discussed above could be applied to time many functions and compare efficiencies\n",
    "+ Readability (lengthy repetitive code is hard to follow)\n",
    "\n",
    "\n",
    "Metaprogramming can eliminate code repetition without introducing inheritance classes or multiple similar functions. \n",
    "\n",
    "It's also used to sort big-data, for example see the YouTube talk at: https://www.youtube.com/watch?v=rXj5nayS7Yg "
   ]
  },
  {
   "cell_type": "markdown",
   "metadata": {},
   "source": [
    "In this workshop, we only look at metaprogramming in Python, but metaprogramming is a concept that can be used in other languages, for example: \n",
    "+ C++ ![](screenshot.png)\n",
    "+ Ruby ![](screenshot 6.png)\n",
    "+ Java ![](screenshot 2.png)\n",
    "+ Julia ![](screenshot 5.png)\n",
    "+ Fortran ![](screenshot 4.png)"
   ]
  },
  {
   "cell_type": "markdown",
   "metadata": {},
   "source": [
    "In this workshop, we are focussing on Python because of the familiarity with the FEEG6003 (Advanced Computational Methods II) students with Python.\n",
    "\n",
    "![](python.png)\n",
    "In Python, there are 3 main tools we can use to implement metaprogramming: \n",
    "+ Decorators\n",
    "+ Metaclasses\n",
    "+ Descriptors\n",
    "\n",
    "In this presentation, we will focus on Decorators.\n",
    "\n",
    "\n",
    "\n",
    "\n",
    "\n",
    "Finally, for further reading on metaprogramming in Python, I can recomend the folowing resources: \n",
    "+ YouTube video by David Beazley: https://www.youtube.com/watch?v=sPiWg5jSoZI\n",
    "+ Python Cookbook, 3rd Edition, Brian K. Jones and David M Beazley, O'Reilly Media \n",
    "+ Python in a Nutshell, Alex Martelli, O'Reilly  "
   ]
  },
  {
   "cell_type": "markdown",
   "metadata": {},
   "source": [
    "## Decorators Explained\n",
    "A decorator is defined independently of any particular function, method or class, but acts on them to alter their behaviour. \n",
    "\n",
    "We will use the following properties of functions: \n",
    "+ Functions can be assigned to variables\n",
    "+ Functions can be defined within a function, and are called inner functions (the function they are defined within is called the outer function)\n",
    "\n",
    " Note: Inner functions have read only access to the outer scope\n",
    " \n",
    "\n",
    "+ Functions can be passed as variables to a function\n",
    "+ Functions can be returned as output from a function\n",
    "\n",
    "\n",
    "\n",
    "We will also use the terms \\*args and \\*\\*kwargs, to refer to a variable number of arguments/parameters and keyword arguments/parameters correspondingly."
   ]
  },
  {
   "cell_type": "markdown",
   "metadata": {},
   "source": [
    "## Function Decorators Example"
   ]
  },
  {
   "cell_type": "markdown",
   "metadata": {},
   "source": [
    "### Decorator Rules:\n",
    "1. To apply a decorator (e.g. mydecorator) to a function (e.g. myfunction) use the syntax: \n",
    " ```python\n",
    " @mydecorator\n",
    " def myfunction(): \n",
    "     ...\n",
    " ```\n",
    " instead of: \n",
    " ```python\n",
    " myfunction = mydecorator(myfunction)```\n",
    " For example, we would write:\n",
    " ```python\n",
    " @timethis\n",
    " def testfunction():\n",
    "     ...\n",
    "     ```\n",
    " \n",
    "2. When defining the DECORATOR function, include the @wraps line. \n",
    " You will see why in exercise 1.\n",
    "+ Refer to the arguments as \\*args and \\*\\*kwargs, to allow for an unknown number of parameters to be passed\n",
    "+ Return the result of the original function in your wrapper function\n",
    "+ Return the wrapper as the last line"
   ]
  },
  {
   "cell_type": "markdown",
   "metadata": {},
   "source": [
    "# Exercise 1"
   ]
  },
  {
   "cell_type": "markdown",
   "metadata": {
    "collapsed": true
   },
   "source": [
    "### Apply our decorator to a function:"
   ]
  },
  {
   "cell_type": "markdown",
   "metadata": {
    "collapsed": true
   },
   "source": [
    "## Application\n",
    "There are many more complex implementations of metaprogramming in Python than we have time to cover today. \n",
    "\n",
    "The next stage would be learning to pass arguments to decorators - which is not straightforward.\n",
    "\n",
    "You can then make decorators for classes as well as functions, which is extremely useful and minimizes having multiple very similar classes and over-using inheritance.\n",
    "\n",
    "As well as decorators, we have not discussed metaclasses and descriptors, but you can read about these in the resources:\n",
    "+ Python Cookbook, 3rd Edition, Brian K. Jones and David M Beazley, O'Reilly Media \n",
    "+ Python in a Nutshell, Alex Martelli, O'Reilly "
   ]
  }
 ],
 "metadata": {
  "kernelspec": {
   "display_name": "Python 2",
   "language": "python",
   "name": "python2"
  },
  "language_info": {
   "codemirror_mode": {
    "name": "ipython",
    "version": 2
   },
   "file_extension": ".py",
   "mimetype": "text/x-python",
   "name": "python",
   "nbconvert_exporter": "python",
   "pygments_lexer": "ipython2",
   "version": "2.7.11"
  }
 },
 "nbformat": 4,
 "nbformat_minor": 0
}
